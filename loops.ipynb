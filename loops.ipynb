{
  "nbformat": 4,
  "nbformat_minor": 0,
  "metadata": {
    "colab": {
      "provenance": [],
      "authorship_tag": "ABX9TyPA2NTVOwlOoxrLdCGX45GF",
      "include_colab_link": true
    },
    "kernelspec": {
      "name": "python3",
      "display_name": "Python 3"
    },
    "language_info": {
      "name": "python"
    }
  },
  "cells": [
    {
      "cell_type": "markdown",
      "metadata": {
        "id": "view-in-github",
        "colab_type": "text"
      },
      "source": [
        "<a href=\"https://colab.research.google.com/github/muriukiian/Python-for-machine-learning---Basics/blob/main/loops.ipynb\" target=\"_parent\"><img src=\"https://colab.research.google.com/assets/colab-badge.svg\" alt=\"Open In Colab\"/></a>"
      ]
    },
    {
      "cell_type": "markdown",
      "source": [
        "FOR loops"
      ],
      "metadata": {
        "id": "6hd757IKsn_Y"
      }
    },
    {
      "cell_type": "code",
      "source": [
        "laptop1 = int(input(\"Enter the price of the laptop : \"))\n",
        "laptop1 = int(input(\"Enter the price of the laptop : \"))\n",
        "laptop1 = int(input(\"Enter the price of the laptop : \"))\n",
        "laptop1 = int(input(\"Enter the price of the laptop : \"))\n",
        "laptop1 = int(input(\"Enter the price of the laptop : \"))"
      ],
      "metadata": {
        "colab": {
          "base_uri": "https://localhost:8080/"
        },
        "id": "dbk-hPuMssDR",
        "outputId": "ee494bc4-ed07-46e7-a2fe-059907e763e9"
      },
      "execution_count": 4,
      "outputs": [
        {
          "name": "stdout",
          "output_type": "stream",
          "text": [
            "Enter the price of the laptop : 50000\n",
            "Enter the price of the laptop : 45000\n",
            "Enter the price of the laptop : 34000\n",
            "Enter the price of the laptop : 34567\n",
            "Enter the price of the laptop : 23950\n"
          ]
        }
      ]
    },
    {
      "cell_type": "code",
      "source": [
        "#asking input 5 times without repeating the same code 5 times\n",
        "#we use for loop.\n",
        "\n",
        "for i in range(5):   #0,1,2,3,4\n",
        "  laptop_price = int(input('Enter price of laptop : '))"
      ],
      "metadata": {
        "colab": {
          "base_uri": "https://localhost:8080/"
        },
        "id": "gf92pbqus2TP",
        "outputId": "90611f15-2ccb-465a-dff0-ad82f49808b9"
      },
      "execution_count": 6,
      "outputs": [
        {
          "name": "stdout",
          "output_type": "stream",
          "text": [
            "Enter price of laptop : 40000\n",
            "Enter price of laptop : 34555\n",
            "Enter price of laptop : 23564\n",
            "Enter price of laptop : 67545\n",
            "Enter price of laptop : 76543\n"
          ]
        }
      ]
    },
    {
      "cell_type": "code",
      "source": [
        "num = [50,100,150,200]\n",
        "\n",
        "for numbers in num:\n",
        "  print(numbers)"
      ],
      "metadata": {
        "colab": {
          "base_uri": "https://localhost:8080/"
        },
        "id": "knwNdOD5uCFC",
        "outputId": "3ba27489-969e-4257-f268-cbd578add7a9"
      },
      "execution_count": 7,
      "outputs": [
        {
          "output_type": "stream",
          "name": "stdout",
          "text": [
            "50\n",
            "100\n",
            "150\n",
            "200\n"
          ]
        }
      ]
    },
    {
      "cell_type": "markdown",
      "source": [
        "WHILE loops\n",
        "\n",
        "=>used when not sure the number of times a function should be executed"
      ],
      "metadata": {
        "id": "ojLptf1JvJe2"
      }
    },
    {
      "cell_type": "code",
      "source": [
        "i = 0\n",
        "while i < 10:\n",
        "  print(i)\n",
        "  i += 1"
      ],
      "metadata": {
        "colab": {
          "base_uri": "https://localhost:8080/"
        },
        "id": "S4N0euarvMz1",
        "outputId": "364910b0-b725-4f59-e8d2-12edd09c40fc"
      },
      "execution_count": 10,
      "outputs": [
        {
          "output_type": "stream",
          "name": "stdout",
          "text": [
            "0\n",
            "1\n",
            "2\n",
            "3\n",
            "4\n",
            "5\n",
            "6\n",
            "7\n",
            "8\n",
            "9\n"
          ]
        }
      ]
    },
    {
      "cell_type": "code",
      "source": [],
      "metadata": {
        "id": "ua92ziikvsEF"
      },
      "execution_count": null,
      "outputs": []
    }
  ]
}