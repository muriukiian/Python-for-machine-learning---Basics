{
  "nbformat": 4,
  "nbformat_minor": 0,
  "metadata": {
    "colab": {
      "provenance": [],
      "authorship_tag": "ABX9TyMWeJfoqD8Tc57TH50UA9xA",
      "include_colab_link": true
    },
    "kernelspec": {
      "name": "python3",
      "display_name": "Python 3"
    },
    "language_info": {
      "name": "python"
    }
  },
  "cells": [
    {
      "cell_type": "markdown",
      "metadata": {
        "id": "view-in-github",
        "colab_type": "text"
      },
      "source": [
        "<a href=\"https://colab.research.google.com/github/muriukiian/Python-for-machine-learning---Basics/blob/main/Functions.ipynb\" target=\"_parent\"><img src=\"https://colab.research.google.com/assets/colab-badge.svg\" alt=\"Open In Colab\"/></a>"
      ]
    },
    {
      "cell_type": "markdown",
      "source": [
        "FUNCTIONS\n",
        "\n",
        "=>A function is a block of code that can be re-used in a program."
      ],
      "metadata": {
        "id": "_pgOAts4xoGU"
      }
    },
    {
      "cell_type": "code",
      "source": [
        "def nth_root(number, n):\n",
        "  return number ** (1/n)\n",
        "number = int(input('Enter number : '))\n",
        "n = int(input('Enter nthroot value : '))\n",
        "result = nth_root(number, n)\n",
        "print(f\"The {n} root value of {number} is {result}\")"
      ],
      "metadata": {
        "colab": {
          "base_uri": "https://localhost:8080/"
        },
        "id": "l_oKel_ExzB3",
        "outputId": "48881ca6-1d12-41e3-a68a-e6f1a4d33ed8"
      },
      "execution_count": 4,
      "outputs": [
        {
          "output_type": "stream",
          "name": "stdout",
          "text": [
            "Enter number : 7529536\n",
            "Enter nthroot value : 6\n",
            "The 6 root value of 7529536 is 13.999999999999998\n"
          ]
        }
      ]
    },
    {
      "cell_type": "code",
      "source": [],
      "metadata": {
        "id": "FLyY7Ad29mC4"
      },
      "execution_count": null,
      "outputs": []
    },
    {
      "cell_type": "markdown",
      "source": [
        "Factorial of a number.\n",
        "=> Factorial of a number is the product of all the positive integers less than or equal to the given number.\n",
        "=> The factorial of 5 is:\n",
        "      5 x 4 x 3 x 2 x 1 = 120."
      ],
      "metadata": {
        "id": "tXlQqVUf97nd"
      }
    },
    {
      "cell_type": "code",
      "source": [
        "num = int(input(\"Enter number to find the factorial : \"))\n",
        "factorial = 1\n",
        "\n",
        "if num == 0:\n",
        "  print('The factorial of 0 is 1')\n",
        "\n",
        "else:\n",
        "  for i in range(1, num + 1):\n",
        "    factorial = factorial * i\n",
        "  print(f'The factorial of {num} is {factorial}.')"
      ],
      "metadata": {
        "colab": {
          "base_uri": "https://localhost:8080/"
        },
        "id": "tLm3_2D3BTXi",
        "outputId": "045a72a2-ca1b-450f-b34b-e03869528ad0"
      },
      "execution_count": 15,
      "outputs": [
        {
          "output_type": "stream",
          "name": "stdout",
          "text": [
            "Enter number to find the factorial : 10\n",
            "The factorial of 10 is 3628800.\n"
          ]
        }
      ]
    },
    {
      "cell_type": "markdown",
      "source": [
        "Factorail function"
      ],
      "metadata": {
        "id": "LcPQqTFvEgCV"
      }
    },
    {
      "cell_type": "code",
      "source": [
        "def factorial_value(num1):\n",
        "  factorial = 1\n",
        "\n",
        "  if num1 == 0:\n",
        "    return factorial\n",
        "\n",
        "  else:\n",
        "    for i in range(1, num1 + 1):\n",
        "      factorial = factorial * i\n",
        "    return factorial\n",
        "\n",
        "num1 = int(input(\"Enter number to find the factorial : \"))\n",
        "result = factorial_value(num1)\n",
        "print(f\"The factorial value of {num1} is {result}\")"
      ],
      "metadata": {
        "colab": {
          "base_uri": "https://localhost:8080/"
        },
        "id": "KvpuXwE2Eh54",
        "outputId": "f85864dc-ac99-45ec-d934-ecbd22300b12"
      },
      "execution_count": 17,
      "outputs": [
        {
          "output_type": "stream",
          "name": "stdout",
          "text": [
            "Enter number to find the factorial : 5\n",
            "The factorial value of 5 is 120\n"
          ]
        }
      ]
    },
    {
      "cell_type": "code",
      "source": [],
      "metadata": {
        "id": "866sru_jFxpz"
      },
      "execution_count": null,
      "outputs": []
    }
  ]
}